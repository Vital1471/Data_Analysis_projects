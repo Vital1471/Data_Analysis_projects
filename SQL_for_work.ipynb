{
 "cells": [
  {
   "cell_type": "markdown",
   "id": "3efe1d52-df13-4ed8-9561-5b0a06f6810e",
   "metadata": {},
   "source": [
    "SELECT [DISTINCT]   \n",
    "    &nbsp;&nbsp;&nbsp;&nbsp;Tablename1.columnname1,  \n",
    "    &nbsp;&nbsp;&nbsp;&nbsp;Tablename2.columnname3,  \n",
    "    &nbsp;&nbsp;&nbsp;&nbsp;.  \n",
    "    &nbsp;&nbsp;&nbsp;&nbsp;.  \n",
    "    &nbsp;&nbsp;&nbsp;&nbsp;TablenameX.columnnameY  \n",
    "FROM Tablename1  \n",
    "[LEFT] JOIN Tablename2   \n",
    "    &nbsp;&nbsp;&nbsp;&nbsp;ON conditions  \n",
    "[LEFT] JOIN Tablename3   \n",
    "    &nbsp;&nbsp;&nbsp;&nbsp;ON conditions  \n",
    ".  \n",
    ".  \n",
    "[LEFT] JOIN TablenameX  \n",
    "    &nbsp;&nbsp;&nbsp;&nbsp;ON conditions  \n",
    "WHERE 1=1  \n",
    "    &nbsp;&nbsp;&nbsp;&nbsp;AND conditions  \n",
    "[GROUP BY] TablenameN.columnnameM, ...  \n",
    "[HAVING] aggregated conditions  \n",
    "[ORDER BY] TablenameL.columnnameO, ...  \n",
    "[LIMIT] number  "
   ]
  },
  {
   "cell_type": "markdown",
   "id": "19b49f76-3b24-4493-93b3-c92b214d8f85",
   "metadata": {},
   "source": [
    "Мы имеем данные заказов ресторана(orders) и цены продуктов(products), которые загрузим из файлов CSV."
   ]
  },
  {
   "cell_type": "code",
   "execution_count": 1,
   "id": "c5731a50-e434-48ad-be89-af0a1c2ebbef",
   "metadata": {},
   "outputs": [],
   "source": [
    "import pandas as pd\n",
    "from pandasql import sqldf\n",
    "pdsql = lambda q: sqldf(q, globals())"
   ]
  },
  {
   "cell_type": "markdown",
   "id": "2feed1e4-c717-426b-b2cd-10e0f2d174a1",
   "metadata": {},
   "source": [
    "Считаем данные"
   ]
  },
  {
   "cell_type": "code",
   "execution_count": 2,
   "id": "72e16087-b3cc-40d2-8a3d-2679a83e80da",
   "metadata": {},
   "outputs": [
    {
     "data": {
      "text/html": [
       "<div>\n",
       "<style scoped>\n",
       "    .dataframe tbody tr th:only-of-type {\n",
       "        vertical-align: middle;\n",
       "    }\n",
       "\n",
       "    .dataframe tbody tr th {\n",
       "        vertical-align: top;\n",
       "    }\n",
       "\n",
       "    .dataframe thead th {\n",
       "        text-align: right;\n",
       "    }\n",
       "</style>\n",
       "<table border=\"1\" class=\"dataframe\">\n",
       "  <thead>\n",
       "    <tr style=\"text-align: right;\">\n",
       "      <th></th>\n",
       "      <th>number</th>\n",
       "      <th>timestamp</th>\n",
       "      <th>item</th>\n",
       "      <th>quantity</th>\n",
       "      <th>price</th>\n",
       "      <th>total_products_in_cart</th>\n",
       "      <th>date</th>\n",
       "    </tr>\n",
       "  </thead>\n",
       "  <tbody>\n",
       "    <tr>\n",
       "      <th>41767</th>\n",
       "      <td>3466</td>\n",
       "      <td>2016-10-20 18:07:00</td>\n",
       "      <td>Chicken Chaat</td>\n",
       "      <td>1</td>\n",
       "      <td>4.95</td>\n",
       "      <td>4</td>\n",
       "      <td>2016-10-20</td>\n",
       "    </tr>\n",
       "    <tr>\n",
       "      <th>69206</th>\n",
       "      <td>7478</td>\n",
       "      <td>2017-11-21 20:10:00</td>\n",
       "      <td>Lamb Biryani</td>\n",
       "      <td>1</td>\n",
       "      <td>9.95</td>\n",
       "      <td>3</td>\n",
       "      <td>2017-11-21</td>\n",
       "    </tr>\n",
       "  </tbody>\n",
       "</table>\n",
       "</div>"
      ],
      "text/plain": [
       "       number           timestamp           item  quantity  price  \\\n",
       "41767    3466 2016-10-20 18:07:00  Chicken Chaat         1   4.95   \n",
       "69206    7478 2017-11-21 20:10:00   Lamb Biryani         1   9.95   \n",
       "\n",
       "       total_products_in_cart        date  \n",
       "41767                       4  2016-10-20  \n",
       "69206                       3  2017-11-21  "
      ]
     },
     "execution_count": 2,
     "metadata": {},
     "output_type": "execute_result"
    }
   ],
   "source": [
    "orders = pd.read_csv(r'D:\\python_work\\datasets\\SQL_data\\SQL_restaurant-1-orders.csv')\n",
    "orders.columns = ['number', 'timestamp', 'item', 'quantity', 'price', 'total_products_in_cart']\n",
    "orders['timestamp'] = pd.to_datetime(orders['timestamp'])\n",
    "orders['date'] = orders['timestamp'].dt.date \n",
    "orders.sample(2)"
   ]
  },
  {
   "cell_type": "code",
   "execution_count": 3,
   "id": "9617c3f4-1a49-4064-b540-d7b0a48cba0a",
   "metadata": {},
   "outputs": [
    {
     "data": {
      "text/plain": [
       "(74818, 7)"
      ]
     },
     "execution_count": 3,
     "metadata": {},
     "output_type": "execute_result"
    }
   ],
   "source": [
    "# Проверим размер таблицы\n",
    "orders.shape"
   ]
  },
  {
   "cell_type": "code",
   "execution_count": 4,
   "id": "f8737a18-d3ec-4805-8cb9-ad99a402cd92",
   "metadata": {},
   "outputs": [
    {
     "name": "stdout",
     "output_type": "stream",
     "text": [
      "Timeline: 2015-01-09 to 2019-12-07\n"
     ]
    }
   ],
   "source": [
    "# Проверим диапазон дат в наших данных\n",
    "print(f\"Timeline: {orders['date'].min()} to {orders['date'].max()}\")"
   ]
  },
  {
   "cell_type": "code",
   "execution_count": 5,
   "id": "4829d8bc-f47b-4da1-a5f4-c9d5d26770dd",
   "metadata": {},
   "outputs": [
    {
     "data": {
      "text/html": [
       "<div>\n",
       "<style scoped>\n",
       "    .dataframe tbody tr th:only-of-type {\n",
       "        vertical-align: middle;\n",
       "    }\n",
       "\n",
       "    .dataframe tbody tr th {\n",
       "        vertical-align: top;\n",
       "    }\n",
       "\n",
       "    .dataframe thead th {\n",
       "        text-align: right;\n",
       "    }\n",
       "</style>\n",
       "<table border=\"1\" class=\"dataframe\">\n",
       "  <thead>\n",
       "    <tr style=\"text-align: right;\">\n",
       "      <th></th>\n",
       "      <th>item</th>\n",
       "      <th>price</th>\n",
       "    </tr>\n",
       "  </thead>\n",
       "  <tbody>\n",
       "    <tr>\n",
       "      <th>166</th>\n",
       "      <td>Butter Chicken</td>\n",
       "      <td>9.95</td>\n",
       "    </tr>\n",
       "    <tr>\n",
       "      <th>132</th>\n",
       "      <td>Dhansak - Lamb</td>\n",
       "      <td>8.95</td>\n",
       "    </tr>\n",
       "  </tbody>\n",
       "</table>\n",
       "</div>"
      ],
      "text/plain": [
       "               item  price\n",
       "166  Butter Chicken   9.95\n",
       "132  Dhansak - Lamb   8.95"
      ]
     },
     "execution_count": 5,
     "metadata": {},
     "output_type": "execute_result"
    }
   ],
   "source": [
    "products = pd.read_csv(r'D:\\python_work\\datasets\\SQL_data\\SQL_restaurant-1-products-price.csv')\n",
    "products.columns = ['item', 'price']\n",
    "products.sample(2)"
   ]
  },
  {
   "cell_type": "code",
   "execution_count": 6,
   "id": "6423f182-57eb-412d-83b9-9982cd2bc9c1",
   "metadata": {},
   "outputs": [
    {
     "data": {
      "text/plain": [
       "(248, 2)"
      ]
     },
     "execution_count": 6,
     "metadata": {},
     "output_type": "execute_result"
    }
   ],
   "source": [
    "products.shape"
   ]
  },
  {
   "cell_type": "code",
   "execution_count": 7,
   "id": "b8ce0a4e-b714-45cf-b7e9-68b132c961a2",
   "metadata": {},
   "outputs": [
    {
     "data": {
      "text/plain": [
       "248"
      ]
     },
     "execution_count": 7,
     "metadata": {},
     "output_type": "execute_result"
    }
   ],
   "source": [
    "orders.item.nunique()"
   ]
  },
  {
   "cell_type": "markdown",
   "id": "efcb8f30-eea2-4a11-ae48-3886f2da6d65",
   "metadata": {},
   "source": [
    "**JOIN**"
   ]
  },
  {
   "cell_type": "markdown",
   "id": "b6f215d4-c1c6-4a46-8983-ed18c5987cfb",
   "metadata": {},
   "source": [
    "Проверим, представляет ли orders.price цену одного товара или общую цену заказа?"
   ]
  },
  {
   "cell_type": "code",
   "execution_count": 8,
   "id": "612c9273-6415-409d-89bf-9c6cc1d7c800",
   "metadata": {},
   "outputs": [],
   "source": [
    "result = pdsql(\n",
    "\"\"\"\n",
    "SELECT\n",
    "    orders.*,\n",
    "    products.price AS product_price\n",
    "FROM orders\n",
    "LEFT JOIN products \n",
    "    ON products.item = orders.item\n",
    "\"\"\")"
   ]
  },
  {
   "cell_type": "code",
   "execution_count": 9,
   "id": "cfbd516b-c5a7-47c3-82d9-a4464c74a5fe",
   "metadata": {},
   "outputs": [
    {
     "data": {
      "text/html": [
       "<div>\n",
       "<style scoped>\n",
       "    .dataframe tbody tr th:only-of-type {\n",
       "        vertical-align: middle;\n",
       "    }\n",
       "\n",
       "    .dataframe tbody tr th {\n",
       "        vertical-align: top;\n",
       "    }\n",
       "\n",
       "    .dataframe thead th {\n",
       "        text-align: right;\n",
       "    }\n",
       "</style>\n",
       "<table border=\"1\" class=\"dataframe\">\n",
       "  <thead>\n",
       "    <tr style=\"text-align: right;\">\n",
       "      <th></th>\n",
       "      <th>number</th>\n",
       "      <th>timestamp</th>\n",
       "      <th>item</th>\n",
       "      <th>quantity</th>\n",
       "      <th>price</th>\n",
       "      <th>total_products_in_cart</th>\n",
       "      <th>date</th>\n",
       "      <th>product_price</th>\n",
       "    </tr>\n",
       "  </thead>\n",
       "  <tbody>\n",
       "    <tr>\n",
       "      <th>54323</th>\n",
       "      <td>15666</td>\n",
       "      <td>2019-06-07 18:52:00.000000</td>\n",
       "      <td>Bhuna - Chicken</td>\n",
       "      <td>2</td>\n",
       "      <td>8.95</td>\n",
       "      <td>2</td>\n",
       "      <td>2019-06-07</td>\n",
       "      <td>8.95</td>\n",
       "    </tr>\n",
       "    <tr>\n",
       "      <th>44555</th>\n",
       "      <td>12197</td>\n",
       "      <td>2018-11-25 18:47:00.000000</td>\n",
       "      <td>Bombay Aloo</td>\n",
       "      <td>1</td>\n",
       "      <td>5.95</td>\n",
       "      <td>10</td>\n",
       "      <td>2018-11-25</td>\n",
       "      <td>5.95</td>\n",
       "    </tr>\n",
       "    <tr>\n",
       "      <th>63825</th>\n",
       "      <td>4238</td>\n",
       "      <td>2017-08-01 18:02:00.000000</td>\n",
       "      <td>Saag</td>\n",
       "      <td>1</td>\n",
       "      <td>8.95</td>\n",
       "      <td>5</td>\n",
       "      <td>2017-08-01</td>\n",
       "      <td>8.95</td>\n",
       "    </tr>\n",
       "  </tbody>\n",
       "</table>\n",
       "</div>"
      ],
      "text/plain": [
       "       number                   timestamp             item  quantity  price  \\\n",
       "54323   15666  2019-06-07 18:52:00.000000  Bhuna - Chicken         2   8.95   \n",
       "44555   12197  2018-11-25 18:47:00.000000      Bombay Aloo         1   5.95   \n",
       "63825    4238  2017-08-01 18:02:00.000000             Saag         1   8.95   \n",
       "\n",
       "       total_products_in_cart        date  product_price  \n",
       "54323                       2  2019-06-07           8.95  \n",
       "44555                      10  2018-11-25           5.95  \n",
       "63825                       5  2017-08-01           8.95  "
      ]
     },
     "execution_count": 9,
     "metadata": {},
     "output_type": "execute_result"
    }
   ],
   "source": [
    "result.sample(3)"
   ]
  },
  {
   "cell_type": "markdown",
   "id": "e10dea9d-068f-495e-9faa-9ac6be548179",
   "metadata": {},
   "source": [
    "Видим, что orders.price здесь - это цена одного продукта."
   ]
  },
  {
   "cell_type": "markdown",
   "id": "0e5bdff1-4793-43a3-8060-e7582cf349ee",
   "metadata": {},
   "source": [
    "**SELECT/WHERE**"
   ]
  },
  {
   "cell_type": "markdown",
   "id": "597e300a-6352-4dce-ac27-2f8a232396ab",
   "metadata": {},
   "source": [
    "Проверим продукты(уникальные), цена которых больше 10$. Результат отсортируем в алфавитном порядке"
   ]
  },
  {
   "cell_type": "code",
   "execution_count": 10,
   "id": "db52f8ea-3637-43b0-a1a6-a9b79d81a5af",
   "metadata": {},
   "outputs": [],
   "source": [
    "result = pdsql(\n",
    "\"\"\"\n",
    "SELECT\n",
    "    DISTINCT(item)    \n",
    "FROM orders\n",
    "WHERE price > 10\n",
    "ORDER BY item \n",
    "\"\"\")"
   ]
  },
  {
   "cell_type": "code",
   "execution_count": 11,
   "id": "da7b8d54-20e2-4b60-9368-cb526fde5d2c",
   "metadata": {},
   "outputs": [
    {
     "data": {
      "text/html": [
       "<div>\n",
       "<style scoped>\n",
       "    .dataframe tbody tr th:only-of-type {\n",
       "        vertical-align: middle;\n",
       "    }\n",
       "\n",
       "    .dataframe tbody tr th {\n",
       "        vertical-align: top;\n",
       "    }\n",
       "\n",
       "    .dataframe thead th {\n",
       "        text-align: right;\n",
       "    }\n",
       "</style>\n",
       "<table border=\"1\" class=\"dataframe\">\n",
       "  <thead>\n",
       "    <tr style=\"text-align: right;\">\n",
       "      <th></th>\n",
       "      <th>item</th>\n",
       "    </tr>\n",
       "  </thead>\n",
       "  <tbody>\n",
       "    <tr>\n",
       "      <th>0</th>\n",
       "      <td>Bengal Fish Biryani</td>\n",
       "    </tr>\n",
       "    <tr>\n",
       "      <th>1</th>\n",
       "      <td>Bengal Fish Karahi</td>\n",
       "    </tr>\n",
       "    <tr>\n",
       "      <th>2</th>\n",
       "      <td>Bengal Fry Fish</td>\n",
       "    </tr>\n",
       "    <tr>\n",
       "      <th>3</th>\n",
       "      <td>Bengal King Prawn</td>\n",
       "    </tr>\n",
       "    <tr>\n",
       "      <th>4</th>\n",
       "      <td>Bhuna</td>\n",
       "    </tr>\n",
       "  </tbody>\n",
       "</table>\n",
       "</div>"
      ],
      "text/plain": [
       "                  item\n",
       "0  Bengal Fish Biryani\n",
       "1   Bengal Fish Karahi\n",
       "2      Bengal Fry Fish\n",
       "3    Bengal King Prawn\n",
       "4                Bhuna"
      ]
     },
     "execution_count": 11,
     "metadata": {},
     "output_type": "execute_result"
    }
   ],
   "source": [
    "result.head(5)"
   ]
  },
  {
   "cell_type": "code",
   "execution_count": 12,
   "id": "7ffeb186-df5e-476e-bb97-0c59ecbc56a0",
   "metadata": {},
   "outputs": [
    {
     "name": "stdout",
     "output_type": "stream",
     "text": [
      "Количество продуктов, цена которых больше 10$ - 52\n"
     ]
    }
   ],
   "source": [
    "print(f'Количество продуктов, цена которых больше 10$ - {result.shape[0]}')"
   ]
  },
  {
   "cell_type": "code",
   "execution_count": 13,
   "id": "ef12dadd-6e20-45ae-8915-6c83e40d1db3",
   "metadata": {},
   "outputs": [
    {
     "data": {
      "text/plain": [
       "52"
      ]
     },
     "execution_count": 13,
     "metadata": {},
     "output_type": "execute_result"
    }
   ],
   "source": [
    "# Проверим результат\n",
    "orders.query('price > 10').item.nunique()"
   ]
  },
  {
   "cell_type": "markdown",
   "id": "c5ba142d-69ae-4607-bd3d-707c3af0855a",
   "metadata": {},
   "source": [
    "**Aggregations**"
   ]
  },
  {
   "cell_type": "markdown",
   "id": "308f2aad-ecf7-4431-8e33-f5fc02dc8010",
   "metadata": {},
   "source": [
    "Проверим общую сумму по каждому заказу. Отсортируем результат по убыванию суммы заказа"
   ]
  },
  {
   "cell_type": "code",
   "execution_count": 14,
   "id": "b8f7be84-73e6-4fb7-8375-618bae428772",
   "metadata": {},
   "outputs": [],
   "source": [
    "result = pdsql(\n",
    "\"\"\"\n",
    "SELECT\n",
    "    number,\n",
    "    SUM(price * quantity) AS total_sum\n",
    "FROM orders\n",
    "GROUP BY number\n",
    "ORDER BY total_sum DESC\n",
    "\"\"\")"
   ]
  },
  {
   "cell_type": "code",
   "execution_count": 15,
   "id": "5724fe77-55c5-4877-b5f1-e36f4799a378",
   "metadata": {},
   "outputs": [
    {
     "data": {
      "text/html": [
       "<div>\n",
       "<style scoped>\n",
       "    .dataframe tbody tr th:only-of-type {\n",
       "        vertical-align: middle;\n",
       "    }\n",
       "\n",
       "    .dataframe tbody tr th {\n",
       "        vertical-align: top;\n",
       "    }\n",
       "\n",
       "    .dataframe thead th {\n",
       "        text-align: right;\n",
       "    }\n",
       "</style>\n",
       "<table border=\"1\" class=\"dataframe\">\n",
       "  <thead>\n",
       "    <tr style=\"text-align: right;\">\n",
       "      <th></th>\n",
       "      <th>number</th>\n",
       "      <th>total_sum</th>\n",
       "    </tr>\n",
       "  </thead>\n",
       "  <tbody>\n",
       "    <tr>\n",
       "      <th>0</th>\n",
       "      <td>6769</td>\n",
       "      <td>1242.00</td>\n",
       "    </tr>\n",
       "    <tr>\n",
       "      <th>1</th>\n",
       "      <td>6768</td>\n",
       "      <td>685.25</td>\n",
       "    </tr>\n",
       "    <tr>\n",
       "      <th>2</th>\n",
       "      <td>15840</td>\n",
       "      <td>660.45</td>\n",
       "    </tr>\n",
       "    <tr>\n",
       "      <th>3</th>\n",
       "      <td>9412</td>\n",
       "      <td>582.00</td>\n",
       "    </tr>\n",
       "    <tr>\n",
       "      <th>4</th>\n",
       "      <td>9411</td>\n",
       "      <td>460.75</td>\n",
       "    </tr>\n",
       "  </tbody>\n",
       "</table>\n",
       "</div>"
      ],
      "text/plain": [
       "   number  total_sum\n",
       "0    6769    1242.00\n",
       "1    6768     685.25\n",
       "2   15840     660.45\n",
       "3    9412     582.00\n",
       "4    9411     460.75"
      ]
     },
     "execution_count": 15,
     "metadata": {},
     "output_type": "execute_result"
    }
   ],
   "source": [
    "result.head(5)"
   ]
  },
  {
   "cell_type": "code",
   "execution_count": 16,
   "id": "f3edf410-b2ae-45bb-ad61-e4d9e6a75590",
   "metadata": {},
   "outputs": [
    {
     "data": {
      "text/plain": [
       "1242.0"
      ]
     },
     "execution_count": 16,
     "metadata": {},
     "output_type": "execute_result"
    }
   ],
   "source": [
    "# Проверим сумму по заказу \"6769\" \n",
    "(orders.query('number == 6769').quantity * orders.query('number == 6769').price).sum()\t "
   ]
  },
  {
   "cell_type": "markdown",
   "id": "6d73c0c6-4858-49ba-b714-f17e9d8dd246",
   "metadata": {},
   "source": [
    "Сколько заказов размещалось ежедневно в 2019 году?"
   ]
  },
  {
   "cell_type": "code",
   "execution_count": 17,
   "id": "4f08f42a-7fca-4b40-a88a-5e98c40a51f5",
   "metadata": {},
   "outputs": [],
   "source": [
    "result = pdsql(\n",
    "\"\"\"\n",
    "SELECT \n",
    "    DATE(date) AS date,\n",
    "    COUNT(DISTINCT number) AS num_orders\n",
    "FROM orders\n",
    "WHERE  date >= '2019-01-01'\n",
    "   AND date < '2020-01-01'\n",
    "GROUP BY date\n",
    "\"\"\")"
   ]
  },
  {
   "cell_type": "code",
   "execution_count": 18,
   "id": "3eeb6b7e-f773-4534-adeb-9017aa14bfce",
   "metadata": {},
   "outputs": [
    {
     "data": {
      "text/html": [
       "<div>\n",
       "<style scoped>\n",
       "    .dataframe tbody tr th:only-of-type {\n",
       "        vertical-align: middle;\n",
       "    }\n",
       "\n",
       "    .dataframe tbody tr th {\n",
       "        vertical-align: top;\n",
       "    }\n",
       "\n",
       "    .dataframe thead th {\n",
       "        text-align: right;\n",
       "    }\n",
       "</style>\n",
       "<table border=\"1\" class=\"dataframe\">\n",
       "  <thead>\n",
       "    <tr style=\"text-align: right;\">\n",
       "      <th></th>\n",
       "      <th>date</th>\n",
       "      <th>num_orders</th>\n",
       "    </tr>\n",
       "  </thead>\n",
       "  <tbody>\n",
       "    <tr>\n",
       "      <th>0</th>\n",
       "      <td>2019-01-01</td>\n",
       "      <td>14</td>\n",
       "    </tr>\n",
       "    <tr>\n",
       "      <th>1</th>\n",
       "      <td>2019-01-02</td>\n",
       "      <td>26</td>\n",
       "    </tr>\n",
       "    <tr>\n",
       "      <th>2</th>\n",
       "      <td>2019-01-03</td>\n",
       "      <td>32</td>\n",
       "    </tr>\n",
       "    <tr>\n",
       "      <th>3</th>\n",
       "      <td>2019-01-04</td>\n",
       "      <td>6</td>\n",
       "    </tr>\n",
       "    <tr>\n",
       "      <th>4</th>\n",
       "      <td>2019-01-05</td>\n",
       "      <td>14</td>\n",
       "    </tr>\n",
       "    <tr>\n",
       "      <th>...</th>\n",
       "      <td>...</td>\n",
       "      <td>...</td>\n",
       "    </tr>\n",
       "    <tr>\n",
       "      <th>210</th>\n",
       "      <td>2019-12-03</td>\n",
       "      <td>11</td>\n",
       "    </tr>\n",
       "    <tr>\n",
       "      <th>211</th>\n",
       "      <td>2019-12-04</td>\n",
       "      <td>25</td>\n",
       "    </tr>\n",
       "    <tr>\n",
       "      <th>212</th>\n",
       "      <td>2019-12-05</td>\n",
       "      <td>23</td>\n",
       "    </tr>\n",
       "    <tr>\n",
       "      <th>213</th>\n",
       "      <td>2019-12-06</td>\n",
       "      <td>9</td>\n",
       "    </tr>\n",
       "    <tr>\n",
       "      <th>214</th>\n",
       "      <td>2019-12-07</td>\n",
       "      <td>18</td>\n",
       "    </tr>\n",
       "  </tbody>\n",
       "</table>\n",
       "<p>215 rows × 2 columns</p>\n",
       "</div>"
      ],
      "text/plain": [
       "           date  num_orders\n",
       "0    2019-01-01          14\n",
       "1    2019-01-02          26\n",
       "2    2019-01-03          32\n",
       "3    2019-01-04           6\n",
       "4    2019-01-05          14\n",
       "..          ...         ...\n",
       "210  2019-12-03          11\n",
       "211  2019-12-04          25\n",
       "212  2019-12-05          23\n",
       "213  2019-12-06           9\n",
       "214  2019-12-07          18\n",
       "\n",
       "[215 rows x 2 columns]"
      ]
     },
     "execution_count": 18,
     "metadata": {},
     "output_type": "execute_result"
    }
   ],
   "source": [
    "result"
   ]
  },
  {
   "cell_type": "code",
   "execution_count": 19,
   "id": "d6410cac-a5e5-4333-8054-c7268d811bdc",
   "metadata": {},
   "outputs": [
    {
     "data": {
      "text/plain": [
       "date\n",
       "2019-01-01    14\n",
       "2019-01-02    26\n",
       "2019-01-03    32\n",
       "2019-01-04     6\n",
       "2019-01-05    14\n",
       "              ..\n",
       "2019-12-03    11\n",
       "2019-12-04    25\n",
       "2019-12-05    23\n",
       "2019-12-06     9\n",
       "2019-12-07    18\n",
       "Name: number, Length: 215, dtype: int64"
      ]
     },
     "execution_count": 19,
     "metadata": {},
     "output_type": "execute_result"
    }
   ],
   "source": [
    "# Проверим результат\n",
    "orders.date = pd.to_datetime(orders.date)\n",
    "orders[orders.date.dt.year == 2019].groupby('date')['number'].nunique()"
   ]
  },
  {
   "cell_type": "markdown",
   "id": "2353c20a-96c3-4b9e-b6a3-d39c0bc8c80b",
   "metadata": {},
   "source": [
    "**CASE Statements**"
   ]
  },
  {
   "cell_type": "code",
   "execution_count": 20,
   "id": "482941bd-b21e-42bc-a0b8-fb32c72b68e8",
   "metadata": {},
   "outputs": [
    {
     "data": {
      "text/html": [
       "<div>\n",
       "<style scoped>\n",
       "    .dataframe tbody tr th:only-of-type {\n",
       "        vertical-align: middle;\n",
       "    }\n",
       "\n",
       "    .dataframe tbody tr th {\n",
       "        vertical-align: top;\n",
       "    }\n",
       "\n",
       "    .dataframe thead th {\n",
       "        text-align: right;\n",
       "    }\n",
       "</style>\n",
       "<table border=\"1\" class=\"dataframe\">\n",
       "  <thead>\n",
       "    <tr style=\"text-align: right;\">\n",
       "      <th></th>\n",
       "      <th>number</th>\n",
       "      <th>timestamp</th>\n",
       "      <th>item</th>\n",
       "      <th>quantity</th>\n",
       "      <th>price</th>\n",
       "      <th>total_products_in_cart</th>\n",
       "      <th>date</th>\n",
       "    </tr>\n",
       "  </thead>\n",
       "  <tbody>\n",
       "    <tr>\n",
       "      <th>0</th>\n",
       "      <td>16118</td>\n",
       "      <td>2019-03-08 20:25:00</td>\n",
       "      <td>Plain Papadum</td>\n",
       "      <td>2</td>\n",
       "      <td>0.8</td>\n",
       "      <td>6</td>\n",
       "      <td>2019-03-08</td>\n",
       "    </tr>\n",
       "  </tbody>\n",
       "</table>\n",
       "</div>"
      ],
      "text/plain": [
       "   number           timestamp           item  quantity  price  \\\n",
       "0   16118 2019-03-08 20:25:00  Plain Papadum         2    0.8   \n",
       "\n",
       "   total_products_in_cart       date  \n",
       "0                       6 2019-03-08  "
      ]
     },
     "execution_count": 20,
     "metadata": {},
     "output_type": "execute_result"
    }
   ],
   "source": [
    "orders.head(1)"
   ]
  },
  {
   "cell_type": "markdown",
   "id": "339727a4-a246-4987-a9a2-5c93cf58be63",
   "metadata": {},
   "source": [
    "Категоризируем даты в 2019г. по количеству продаж:  \n",
    "-high level: > 30 sales  \n",
    "-medium level: 10-30 sales  \n",
    "-low level: < 10 sales"
   ]
  },
  {
   "cell_type": "code",
   "execution_count": 22,
   "id": "f4e7ed79-7d4c-405e-9956-1550f343ce03",
   "metadata": {},
   "outputs": [],
   "source": [
    "result = pdsql(\n",
    "\"\"\"\n",
    "SELECT \n",
    "    date,\n",
    "    num_orders,\n",
    "    CASE WHEN num_orders > 30 THEN 'high'\n",
    "         WHEN num_orders < 10 THEN 'low'\n",
    "         ELSE 'medium'END AS category\n",
    "FROM (\n",
    "SELECT \n",
    "    DATE(date) AS date,\n",
    "    COUNT(DISTINCT number) AS num_orders\n",
    "FROM orders\n",
    "WHERE  date >= '2019-01-01'\n",
    "    AND date < '2020-01-01'\n",
    "GROUP BY date\n",
    ") AS q\n",
    "\"\"\")"
   ]
  },
  {
   "cell_type": "code",
   "execution_count": 24,
   "id": "bc0b2b2a-6f5c-4399-80df-8432329a99c6",
   "metadata": {},
   "outputs": [
    {
     "data": {
      "text/html": [
       "<div>\n",
       "<style scoped>\n",
       "    .dataframe tbody tr th:only-of-type {\n",
       "        vertical-align: middle;\n",
       "    }\n",
       "\n",
       "    .dataframe tbody tr th {\n",
       "        vertical-align: top;\n",
       "    }\n",
       "\n",
       "    .dataframe thead th {\n",
       "        text-align: right;\n",
       "    }\n",
       "</style>\n",
       "<table border=\"1\" class=\"dataframe\">\n",
       "  <thead>\n",
       "    <tr style=\"text-align: right;\">\n",
       "      <th></th>\n",
       "      <th>date</th>\n",
       "      <th>num_orders</th>\n",
       "      <th>category</th>\n",
       "    </tr>\n",
       "  </thead>\n",
       "  <tbody>\n",
       "    <tr>\n",
       "      <th>0</th>\n",
       "      <td>2019-01-01</td>\n",
       "      <td>14</td>\n",
       "      <td>medium</td>\n",
       "    </tr>\n",
       "    <tr>\n",
       "      <th>1</th>\n",
       "      <td>2019-01-02</td>\n",
       "      <td>26</td>\n",
       "      <td>medium</td>\n",
       "    </tr>\n",
       "    <tr>\n",
       "      <th>2</th>\n",
       "      <td>2019-01-03</td>\n",
       "      <td>32</td>\n",
       "      <td>high</td>\n",
       "    </tr>\n",
       "  </tbody>\n",
       "</table>\n",
       "</div>"
      ],
      "text/plain": [
       "         date  num_orders category\n",
       "0  2019-01-01          14   medium\n",
       "1  2019-01-02          26   medium\n",
       "2  2019-01-03          32     high"
      ]
     },
     "execution_count": 24,
     "metadata": {},
     "output_type": "execute_result"
    }
   ],
   "source": [
    "result.head(3)"
   ]
  },
  {
   "cell_type": "markdown",
   "id": "c54a71cd-3368-4abe-8e95-b182f31c269c",
   "metadata": {},
   "source": [
    "Реализация в pandas"
   ]
  },
  {
   "cell_type": "code",
   "execution_count": 47,
   "id": "f80cfdb1-9ad7-41ee-9a20-fa1db6b06970",
   "metadata": {},
   "outputs": [],
   "source": [
    "categ = orders[orders.date.dt.year == 2019].groupby('date', as_index=False)['number'].nunique()\\\n",
    "        .rename(columns={'number':'num_orders'})"
   ]
  },
  {
   "cell_type": "code",
   "execution_count": 48,
   "id": "7b420996-d7d3-4658-bc6c-2f47c05e8d84",
   "metadata": {},
   "outputs": [
    {
     "data": {
      "text/html": [
       "<div>\n",
       "<style scoped>\n",
       "    .dataframe tbody tr th:only-of-type {\n",
       "        vertical-align: middle;\n",
       "    }\n",
       "\n",
       "    .dataframe tbody tr th {\n",
       "        vertical-align: top;\n",
       "    }\n",
       "\n",
       "    .dataframe thead th {\n",
       "        text-align: right;\n",
       "    }\n",
       "</style>\n",
       "<table border=\"1\" class=\"dataframe\">\n",
       "  <thead>\n",
       "    <tr style=\"text-align: right;\">\n",
       "      <th></th>\n",
       "      <th>date</th>\n",
       "      <th>num_orders</th>\n",
       "    </tr>\n",
       "  </thead>\n",
       "  <tbody>\n",
       "    <tr>\n",
       "      <th>0</th>\n",
       "      <td>2019-01-01</td>\n",
       "      <td>14</td>\n",
       "    </tr>\n",
       "  </tbody>\n",
       "</table>\n",
       "</div>"
      ],
      "text/plain": [
       "        date  num_orders\n",
       "0 2019-01-01          14"
      ]
     },
     "execution_count": 48,
     "metadata": {},
     "output_type": "execute_result"
    }
   ],
   "source": [
    "categ.head(1) "
   ]
  },
  {
   "cell_type": "code",
   "execution_count": 50,
   "id": "296fd6bb-fb45-467b-b651-5c719602f7ad",
   "metadata": {},
   "outputs": [],
   "source": [
    "bins = [0, 9, 30, categ['num_orders'].max()]\n",
    "labels = [\"low\", \"medium\", \"high\"]\n",
    "categ['category'] = pd.cut(categ['num_orders'], bins=bins, labels=labels)"
   ]
  },
  {
   "cell_type": "code",
   "execution_count": 51,
   "id": "1a0492a2-ffcd-4645-98ce-e4e5111c2059",
   "metadata": {},
   "outputs": [
    {
     "data": {
      "text/html": [
       "<div>\n",
       "<style scoped>\n",
       "    .dataframe tbody tr th:only-of-type {\n",
       "        vertical-align: middle;\n",
       "    }\n",
       "\n",
       "    .dataframe tbody tr th {\n",
       "        vertical-align: top;\n",
       "    }\n",
       "\n",
       "    .dataframe thead th {\n",
       "        text-align: right;\n",
       "    }\n",
       "</style>\n",
       "<table border=\"1\" class=\"dataframe\">\n",
       "  <thead>\n",
       "    <tr style=\"text-align: right;\">\n",
       "      <th></th>\n",
       "      <th>date</th>\n",
       "      <th>num_orders</th>\n",
       "      <th>category</th>\n",
       "    </tr>\n",
       "  </thead>\n",
       "  <tbody>\n",
       "    <tr>\n",
       "      <th>0</th>\n",
       "      <td>2019-01-01</td>\n",
       "      <td>14</td>\n",
       "      <td>medium</td>\n",
       "    </tr>\n",
       "    <tr>\n",
       "      <th>1</th>\n",
       "      <td>2019-01-02</td>\n",
       "      <td>26</td>\n",
       "      <td>medium</td>\n",
       "    </tr>\n",
       "    <tr>\n",
       "      <th>2</th>\n",
       "      <td>2019-01-03</td>\n",
       "      <td>32</td>\n",
       "      <td>high</td>\n",
       "    </tr>\n",
       "  </tbody>\n",
       "</table>\n",
       "</div>"
      ],
      "text/plain": [
       "        date  num_orders category\n",
       "0 2019-01-01          14   medium\n",
       "1 2019-01-02          26   medium\n",
       "2 2019-01-03          32     high"
      ]
     },
     "execution_count": 51,
     "metadata": {},
     "output_type": "execute_result"
    }
   ],
   "source": [
    "categ.head(3)"
   ]
  },
  {
   "cell_type": "markdown",
   "id": "3772cb0d-3156-4363-abae-3a02ae865002",
   "metadata": {},
   "source": [
    "Общие табличные выражения"
   ]
  },
  {
   "cell_type": "code",
   "execution_count": 52,
   "id": "81406e22-e75b-48ba-9326-30a521cafcba",
   "metadata": {},
   "outputs": [],
   "source": [
    "result = pdsql(\n",
    "\"\"\"\n",
    "WITH daily_orders AS (\n",
    "SELECT \n",
    "    DATE(date) AS date,\n",
    "    COUNT(DISTINCT number) AS num_orders\n",
    "FROM orders\n",
    "WHERE date >= '2019-01-01'\n",
    "    AND date < '2020-01-01'\n",
    "GROUP BY date\n",
    ")\n",
    "\n",
    "SELECT \n",
    "    date,\n",
    "    num_orders,\n",
    "    CASE WHEN num_orders > 30 THEN 'high'\n",
    "         WHEN num_orders < 10 THEN 'low'\n",
    "         ELSE 'medium'END AS category\n",
    "FROM daily_orders\n",
    "\"\"\")"
   ]
  },
  {
   "cell_type": "code",
   "execution_count": 53,
   "id": "dc3c34fe-7fe3-4897-869b-9b6774a64481",
   "metadata": {},
   "outputs": [
    {
     "data": {
      "text/html": [
       "<div>\n",
       "<style scoped>\n",
       "    .dataframe tbody tr th:only-of-type {\n",
       "        vertical-align: middle;\n",
       "    }\n",
       "\n",
       "    .dataframe tbody tr th {\n",
       "        vertical-align: top;\n",
       "    }\n",
       "\n",
       "    .dataframe thead th {\n",
       "        text-align: right;\n",
       "    }\n",
       "</style>\n",
       "<table border=\"1\" class=\"dataframe\">\n",
       "  <thead>\n",
       "    <tr style=\"text-align: right;\">\n",
       "      <th></th>\n",
       "      <th>date</th>\n",
       "      <th>num_orders</th>\n",
       "      <th>category</th>\n",
       "    </tr>\n",
       "  </thead>\n",
       "  <tbody>\n",
       "    <tr>\n",
       "      <th>0</th>\n",
       "      <td>2019-01-01</td>\n",
       "      <td>14</td>\n",
       "      <td>medium</td>\n",
       "    </tr>\n",
       "    <tr>\n",
       "      <th>1</th>\n",
       "      <td>2019-01-02</td>\n",
       "      <td>26</td>\n",
       "      <td>medium</td>\n",
       "    </tr>\n",
       "    <tr>\n",
       "      <th>2</th>\n",
       "      <td>2019-01-03</td>\n",
       "      <td>32</td>\n",
       "      <td>high</td>\n",
       "    </tr>\n",
       "  </tbody>\n",
       "</table>\n",
       "</div>"
      ],
      "text/plain": [
       "         date  num_orders category\n",
       "0  2019-01-01          14   medium\n",
       "1  2019-01-02          26   medium\n",
       "2  2019-01-03          32     high"
      ]
     },
     "execution_count": 53,
     "metadata": {},
     "output_type": "execute_result"
    }
   ],
   "source": [
    "result.head(3)"
   ]
  },
  {
   "cell_type": "markdown",
   "id": "437003ef-af9b-42ce-ab62-55e143e9d7bd",
   "metadata": {},
   "source": [
    "**WINDOW FUNCTIONS**"
   ]
  },
  {
   "cell_type": "markdown",
   "id": "c6b9dd3a-ad9e-4192-8478-b224d8d15c12",
   "metadata": {},
   "source": [
    "Определить три самых дорогих заказа на каждый день  \n",
    "Шаг1: Получим общую стоимость всех заказов на каждый день"
   ]
  },
  {
   "cell_type": "code",
   "execution_count": 54,
   "id": "3ff78a70-c89c-4806-852d-b19c1d541d32",
   "metadata": {},
   "outputs": [],
   "source": [
    "result = pdsql(\n",
    "\"\"\"\n",
    "SELECT\n",
    "    DATE(date) AS date,\n",
    "    number,\n",
    "    SUM(price * quantity) AS total_sum\n",
    "FROM orders\n",
    "GROUP BY date, number\n",
    "\"\"\")"
   ]
  },
  {
   "cell_type": "code",
   "execution_count": 55,
   "id": "192e5b36-9f72-4703-9c9d-b63d2c7cc340",
   "metadata": {},
   "outputs": [
    {
     "data": {
      "text/html": [
       "<div>\n",
       "<style scoped>\n",
       "    .dataframe tbody tr th:only-of-type {\n",
       "        vertical-align: middle;\n",
       "    }\n",
       "\n",
       "    .dataframe tbody tr th {\n",
       "        vertical-align: top;\n",
       "    }\n",
       "\n",
       "    .dataframe thead th {\n",
       "        text-align: right;\n",
       "    }\n",
       "</style>\n",
       "<table border=\"1\" class=\"dataframe\">\n",
       "  <thead>\n",
       "    <tr style=\"text-align: right;\">\n",
       "      <th></th>\n",
       "      <th>date</th>\n",
       "      <th>number</th>\n",
       "      <th>total_sum</th>\n",
       "    </tr>\n",
       "  </thead>\n",
       "  <tbody>\n",
       "    <tr>\n",
       "      <th>0</th>\n",
       "      <td>2015-01-09</td>\n",
       "      <td>630</td>\n",
       "      <td>3.95</td>\n",
       "    </tr>\n",
       "    <tr>\n",
       "      <th>1</th>\n",
       "      <td>2015-01-10</td>\n",
       "      <td>1375</td>\n",
       "      <td>15.85</td>\n",
       "    </tr>\n",
       "    <tr>\n",
       "      <th>2</th>\n",
       "      <td>2015-01-10</td>\n",
       "      <td>1376</td>\n",
       "      <td>20.85</td>\n",
       "    </tr>\n",
       "    <tr>\n",
       "      <th>3</th>\n",
       "      <td>2015-01-10</td>\n",
       "      <td>1382</td>\n",
       "      <td>9.90</td>\n",
       "    </tr>\n",
       "    <tr>\n",
       "      <th>4</th>\n",
       "      <td>2015-01-10</td>\n",
       "      <td>1385</td>\n",
       "      <td>46.65</td>\n",
       "    </tr>\n",
       "    <tr>\n",
       "      <th>...</th>\n",
       "      <td>...</td>\n",
       "      <td>...</td>\n",
       "      <td>...</td>\n",
       "    </tr>\n",
       "    <tr>\n",
       "      <th>13392</th>\n",
       "      <td>2019-12-07</td>\n",
       "      <td>15753</td>\n",
       "      <td>24.80</td>\n",
       "    </tr>\n",
       "    <tr>\n",
       "      <th>13393</th>\n",
       "      <td>2019-12-07</td>\n",
       "      <td>15754</td>\n",
       "      <td>33.35</td>\n",
       "    </tr>\n",
       "    <tr>\n",
       "      <th>13394</th>\n",
       "      <td>2019-12-07</td>\n",
       "      <td>15755</td>\n",
       "      <td>36.75</td>\n",
       "    </tr>\n",
       "    <tr>\n",
       "      <th>13395</th>\n",
       "      <td>2019-12-07</td>\n",
       "      <td>15756</td>\n",
       "      <td>28.80</td>\n",
       "    </tr>\n",
       "    <tr>\n",
       "      <th>13396</th>\n",
       "      <td>2019-12-07</td>\n",
       "      <td>15758</td>\n",
       "      <td>25.80</td>\n",
       "    </tr>\n",
       "  </tbody>\n",
       "</table>\n",
       "<p>13397 rows × 3 columns</p>\n",
       "</div>"
      ],
      "text/plain": [
       "             date  number  total_sum\n",
       "0      2015-01-09     630       3.95\n",
       "1      2015-01-10    1375      15.85\n",
       "2      2015-01-10    1376      20.85\n",
       "3      2015-01-10    1382       9.90\n",
       "4      2015-01-10    1385      46.65\n",
       "...           ...     ...        ...\n",
       "13392  2019-12-07   15753      24.80\n",
       "13393  2019-12-07   15754      33.35\n",
       "13394  2019-12-07   15755      36.75\n",
       "13395  2019-12-07   15756      28.80\n",
       "13396  2019-12-07   15758      25.80\n",
       "\n",
       "[13397 rows x 3 columns]"
      ]
     },
     "execution_count": 55,
     "metadata": {},
     "output_type": "execute_result"
    }
   ],
   "source": [
    "result"
   ]
  },
  {
   "cell_type": "markdown",
   "id": "e7ef8b28-d437-41f8-b15a-457845f795a6",
   "metadata": {},
   "source": [
    "Шаг2: Проранжируем все заказы от самого дорогого - 1 к менее дорогим"
   ]
  },
  {
   "cell_type": "code",
   "execution_count": 59,
   "id": "6c52fa50-435a-4725-b562-9749bb98191c",
   "metadata": {},
   "outputs": [],
   "source": [
    "result = pdsql(\n",
    "\"\"\"\n",
    "WITH orders_sum AS (\n",
    "SELECT\n",
    "    DATE(date) AS date,\n",
    "    number,\n",
    "    SUM(price * quantity) AS total_sum\n",
    "FROM orders\n",
    "GROUP BY date, number\n",
    ")\n",
    "SELECT \n",
    "    date,\n",
    "    number,\n",
    "    total_sum,\n",
    "    ROW_NUMBER() OVER(PARTITION BY date ORDER BY total_sum DESC) AS ranking\n",
    "FROM orders_sum\n",
    "ORDER BY date, ranking \n",
    "\"\"\")"
   ]
  },
  {
   "cell_type": "code",
   "execution_count": 61,
   "id": "a6359770-a0e0-4b46-b640-c8bab39b1af9",
   "metadata": {},
   "outputs": [
    {
     "data": {
      "text/html": [
       "<div>\n",
       "<style scoped>\n",
       "    .dataframe tbody tr th:only-of-type {\n",
       "        vertical-align: middle;\n",
       "    }\n",
       "\n",
       "    .dataframe tbody tr th {\n",
       "        vertical-align: top;\n",
       "    }\n",
       "\n",
       "    .dataframe thead th {\n",
       "        text-align: right;\n",
       "    }\n",
       "</style>\n",
       "<table border=\"1\" class=\"dataframe\">\n",
       "  <thead>\n",
       "    <tr style=\"text-align: right;\">\n",
       "      <th></th>\n",
       "      <th>date</th>\n",
       "      <th>number</th>\n",
       "      <th>total_sum</th>\n",
       "      <th>ranking</th>\n",
       "    </tr>\n",
       "  </thead>\n",
       "  <tbody>\n",
       "    <tr>\n",
       "      <th>0</th>\n",
       "      <td>2015-01-09</td>\n",
       "      <td>630</td>\n",
       "      <td>3.95</td>\n",
       "      <td>1</td>\n",
       "    </tr>\n",
       "    <tr>\n",
       "      <th>1</th>\n",
       "      <td>2015-01-10</td>\n",
       "      <td>1385</td>\n",
       "      <td>46.65</td>\n",
       "      <td>1</td>\n",
       "    </tr>\n",
       "    <tr>\n",
       "      <th>2</th>\n",
       "      <td>2015-01-10</td>\n",
       "      <td>1376</td>\n",
       "      <td>20.85</td>\n",
       "      <td>2</td>\n",
       "    </tr>\n",
       "    <tr>\n",
       "      <th>3</th>\n",
       "      <td>2015-01-10</td>\n",
       "      <td>1375</td>\n",
       "      <td>15.85</td>\n",
       "      <td>3</td>\n",
       "    </tr>\n",
       "    <tr>\n",
       "      <th>4</th>\n",
       "      <td>2015-01-10</td>\n",
       "      <td>1382</td>\n",
       "      <td>9.90</td>\n",
       "      <td>4</td>\n",
       "    </tr>\n",
       "    <tr>\n",
       "      <th>5</th>\n",
       "      <td>2015-01-10</td>\n",
       "      <td>1388</td>\n",
       "      <td>4.45</td>\n",
       "      <td>5</td>\n",
       "    </tr>\n",
       "    <tr>\n",
       "      <th>6</th>\n",
       "      <td>2015-01-10</td>\n",
       "      <td>1386</td>\n",
       "      <td>3.95</td>\n",
       "      <td>6</td>\n",
       "    </tr>\n",
       "    <tr>\n",
       "      <th>7</th>\n",
       "      <td>2015-01-10</td>\n",
       "      <td>1387</td>\n",
       "      <td>3.95</td>\n",
       "      <td>7</td>\n",
       "    </tr>\n",
       "    <tr>\n",
       "      <th>8</th>\n",
       "      <td>2015-02-10</td>\n",
       "      <td>1403</td>\n",
       "      <td>43.65</td>\n",
       "      <td>1</td>\n",
       "    </tr>\n",
       "    <tr>\n",
       "      <th>9</th>\n",
       "      <td>2015-02-10</td>\n",
       "      <td>1390</td>\n",
       "      <td>25.80</td>\n",
       "      <td>2</td>\n",
       "    </tr>\n",
       "    <tr>\n",
       "      <th>10</th>\n",
       "      <td>2015-02-10</td>\n",
       "      <td>1402</td>\n",
       "      <td>24.80</td>\n",
       "      <td>3</td>\n",
       "    </tr>\n",
       "    <tr>\n",
       "      <th>11</th>\n",
       "      <td>2015-02-10</td>\n",
       "      <td>1397</td>\n",
       "      <td>19.65</td>\n",
       "      <td>4</td>\n",
       "    </tr>\n",
       "    <tr>\n",
       "      <th>12</th>\n",
       "      <td>2015-02-10</td>\n",
       "      <td>1389</td>\n",
       "      <td>3.95</td>\n",
       "      <td>5</td>\n",
       "    </tr>\n",
       "    <tr>\n",
       "      <th>13</th>\n",
       "      <td>2015-08-09</td>\n",
       "      <td>647</td>\n",
       "      <td>3.95</td>\n",
       "      <td>1</td>\n",
       "    </tr>\n",
       "    <tr>\n",
       "      <th>14</th>\n",
       "      <td>2015-08-09</td>\n",
       "      <td>648</td>\n",
       "      <td>3.95</td>\n",
       "      <td>2</td>\n",
       "    </tr>\n",
       "    <tr>\n",
       "      <th>15</th>\n",
       "      <td>2015-08-09</td>\n",
       "      <td>651</td>\n",
       "      <td>3.95</td>\n",
       "      <td>3</td>\n",
       "    </tr>\n",
       "    <tr>\n",
       "      <th>16</th>\n",
       "      <td>2015-09-09</td>\n",
       "      <td>764</td>\n",
       "      <td>3.95</td>\n",
       "      <td>1</td>\n",
       "    </tr>\n",
       "    <tr>\n",
       "      <th>17</th>\n",
       "      <td>2015-09-09</td>\n",
       "      <td>838</td>\n",
       "      <td>3.95</td>\n",
       "      <td>2</td>\n",
       "    </tr>\n",
       "    <tr>\n",
       "      <th>18</th>\n",
       "      <td>2015-09-09</td>\n",
       "      <td>840</td>\n",
       "      <td>3.95</td>\n",
       "      <td>3</td>\n",
       "    </tr>\n",
       "    <tr>\n",
       "      <th>19</th>\n",
       "      <td>2015-09-09</td>\n",
       "      <td>857</td>\n",
       "      <td>3.95</td>\n",
       "      <td>4</td>\n",
       "    </tr>\n",
       "  </tbody>\n",
       "</table>\n",
       "</div>"
      ],
      "text/plain": [
       "          date  number  total_sum  ranking\n",
       "0   2015-01-09     630       3.95        1\n",
       "1   2015-01-10    1385      46.65        1\n",
       "2   2015-01-10    1376      20.85        2\n",
       "3   2015-01-10    1375      15.85        3\n",
       "4   2015-01-10    1382       9.90        4\n",
       "5   2015-01-10    1388       4.45        5\n",
       "6   2015-01-10    1386       3.95        6\n",
       "7   2015-01-10    1387       3.95        7\n",
       "8   2015-02-10    1403      43.65        1\n",
       "9   2015-02-10    1390      25.80        2\n",
       "10  2015-02-10    1402      24.80        3\n",
       "11  2015-02-10    1397      19.65        4\n",
       "12  2015-02-10    1389       3.95        5\n",
       "13  2015-08-09     647       3.95        1\n",
       "14  2015-08-09     648       3.95        2\n",
       "15  2015-08-09     651       3.95        3\n",
       "16  2015-09-09     764       3.95        1\n",
       "17  2015-09-09     838       3.95        2\n",
       "18  2015-09-09     840       3.95        3\n",
       "19  2015-09-09     857       3.95        4"
      ]
     },
     "execution_count": 61,
     "metadata": {},
     "output_type": "execute_result"
    }
   ],
   "source": [
    "result.head(20)"
   ]
  },
  {
   "cell_type": "markdown",
   "id": "ab4b9004-994c-441b-8f22-1e7dc52b5947",
   "metadata": {},
   "source": [
    "Шаг3: Получим ТОП-3 заказа на каждый день"
   ]
  },
  {
   "cell_type": "code",
   "execution_count": 62,
   "id": "234bad56-056c-4b6d-8e1f-14638fb1a486",
   "metadata": {},
   "outputs": [],
   "source": [
    "result = pdsql(\n",
    "\"\"\"\n",
    "WITH orders_sum AS (\n",
    "SELECT\n",
    "    DATE(date) AS date,\n",
    "    number,\n",
    "    SUM(price * quantity) AS total_sum\n",
    "FROM orders\n",
    "GROUP BY date, number\n",
    ")\n",
    "SELECT *\n",
    "FROM\n",
    "(\n",
    "SELECT \n",
    "    date,\n",
    "    number,\n",
    "    total_sum,\n",
    "    ROW_NUMBER() OVER(PARTITION BY date ORDER BY total_sum DESC) AS ranking\n",
    "FROM orders_sum\n",
    "ORDER BY date, ranking \n",
    ")\n",
    "WHERE ranking <= 3 \n",
    "\"\"\")"
   ]
  },
  {
   "cell_type": "code",
   "execution_count": 63,
   "id": "91863380-5979-4295-9dbe-d04fd5f120bc",
   "metadata": {},
   "outputs": [
    {
     "data": {
      "text/html": [
       "<div>\n",
       "<style scoped>\n",
       "    .dataframe tbody tr th:only-of-type {\n",
       "        vertical-align: middle;\n",
       "    }\n",
       "\n",
       "    .dataframe tbody tr th {\n",
       "        vertical-align: top;\n",
       "    }\n",
       "\n",
       "    .dataframe thead th {\n",
       "        text-align: right;\n",
       "    }\n",
       "</style>\n",
       "<table border=\"1\" class=\"dataframe\">\n",
       "  <thead>\n",
       "    <tr style=\"text-align: right;\">\n",
       "      <th></th>\n",
       "      <th>date</th>\n",
       "      <th>number</th>\n",
       "      <th>total_sum</th>\n",
       "      <th>ranking</th>\n",
       "    </tr>\n",
       "  </thead>\n",
       "  <tbody>\n",
       "    <tr>\n",
       "      <th>0</th>\n",
       "      <td>2015-01-09</td>\n",
       "      <td>630</td>\n",
       "      <td>3.95</td>\n",
       "      <td>1</td>\n",
       "    </tr>\n",
       "    <tr>\n",
       "      <th>1</th>\n",
       "      <td>2015-01-10</td>\n",
       "      <td>1385</td>\n",
       "      <td>46.65</td>\n",
       "      <td>1</td>\n",
       "    </tr>\n",
       "    <tr>\n",
       "      <th>2</th>\n",
       "      <td>2015-01-10</td>\n",
       "      <td>1376</td>\n",
       "      <td>20.85</td>\n",
       "      <td>2</td>\n",
       "    </tr>\n",
       "    <tr>\n",
       "      <th>3</th>\n",
       "      <td>2015-01-10</td>\n",
       "      <td>1375</td>\n",
       "      <td>15.85</td>\n",
       "      <td>3</td>\n",
       "    </tr>\n",
       "    <tr>\n",
       "      <th>4</th>\n",
       "      <td>2015-02-10</td>\n",
       "      <td>1403</td>\n",
       "      <td>43.65</td>\n",
       "      <td>1</td>\n",
       "    </tr>\n",
       "    <tr>\n",
       "      <th>5</th>\n",
       "      <td>2015-02-10</td>\n",
       "      <td>1390</td>\n",
       "      <td>25.80</td>\n",
       "      <td>2</td>\n",
       "    </tr>\n",
       "    <tr>\n",
       "      <th>6</th>\n",
       "      <td>2015-02-10</td>\n",
       "      <td>1402</td>\n",
       "      <td>24.80</td>\n",
       "      <td>3</td>\n",
       "    </tr>\n",
       "    <tr>\n",
       "      <th>7</th>\n",
       "      <td>2015-08-09</td>\n",
       "      <td>647</td>\n",
       "      <td>3.95</td>\n",
       "      <td>1</td>\n",
       "    </tr>\n",
       "    <tr>\n",
       "      <th>8</th>\n",
       "      <td>2015-08-09</td>\n",
       "      <td>648</td>\n",
       "      <td>3.95</td>\n",
       "      <td>2</td>\n",
       "    </tr>\n",
       "    <tr>\n",
       "      <th>9</th>\n",
       "      <td>2015-08-09</td>\n",
       "      <td>651</td>\n",
       "      <td>3.95</td>\n",
       "      <td>3</td>\n",
       "    </tr>\n",
       "  </tbody>\n",
       "</table>\n",
       "</div>"
      ],
      "text/plain": [
       "         date  number  total_sum  ranking\n",
       "0  2015-01-09     630       3.95        1\n",
       "1  2015-01-10    1385      46.65        1\n",
       "2  2015-01-10    1376      20.85        2\n",
       "3  2015-01-10    1375      15.85        3\n",
       "4  2015-02-10    1403      43.65        1\n",
       "5  2015-02-10    1390      25.80        2\n",
       "6  2015-02-10    1402      24.80        3\n",
       "7  2015-08-09     647       3.95        1\n",
       "8  2015-08-09     648       3.95        2\n",
       "9  2015-08-09     651       3.95        3"
      ]
     },
     "execution_count": 63,
     "metadata": {},
     "output_type": "execute_result"
    }
   ],
   "source": [
    "result.head(10)"
   ]
  },
  {
   "cell_type": "code",
   "execution_count": null,
   "id": "8d2ffc22-a240-4f07-ae60-2eaea2816409",
   "metadata": {},
   "outputs": [],
   "source": []
  }
 ],
 "metadata": {
  "kernelspec": {
   "display_name": "Python 3",
   "language": "python",
   "name": "python3"
  },
  "language_info": {
   "codemirror_mode": {
    "name": "ipython",
    "version": 3
   },
   "file_extension": ".py",
   "mimetype": "text/x-python",
   "name": "python",
   "nbconvert_exporter": "python",
   "pygments_lexer": "ipython3",
   "version": "3.9.4"
  },
  "widgets": {
   "application/vnd.jupyter.widget-state+json": {
    "state": {},
    "version_major": 2,
    "version_minor": 0
   }
  }
 },
 "nbformat": 4,
 "nbformat_minor": 5
}
