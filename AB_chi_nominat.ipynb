{
 "cells": [
  {
   "cell_type": "code",
   "execution_count": 1,
   "id": "af298d1a-b002-44cd-8a6e-aea7f696d401",
   "metadata": {},
   "outputs": [],
   "source": [
    "import numpy as np\n",
    "import pandas as pd\n",
    "from scipy.stats import chi2_contingency\n",
    "import datetime\n",
    "%matplotlib inline"
   ]
  },
  {
   "cell_type": "code",
   "execution_count": 2,
   "id": "692b49bc-8aa3-4a81-b3c6-4758844cd893",
   "metadata": {},
   "outputs": [],
   "source": [
    "df = pd.read_csv(r'D:\\python_work\\datasets\\data_ab.csv')"
   ]
  },
  {
   "cell_type": "code",
   "execution_count": 3,
   "id": "29f2da07-f398-4ddd-b4ca-606f0f4c34cc",
   "metadata": {},
   "outputs": [
    {
     "data": {
      "text/html": [
       "<div>\n",
       "<style scoped>\n",
       "    .dataframe tbody tr th:only-of-type {\n",
       "        vertical-align: middle;\n",
       "    }\n",
       "\n",
       "    .dataframe tbody tr th {\n",
       "        vertical-align: top;\n",
       "    }\n",
       "\n",
       "    .dataframe thead th {\n",
       "        text-align: right;\n",
       "    }\n",
       "</style>\n",
       "<table border=\"1\" class=\"dataframe\">\n",
       "  <thead>\n",
       "    <tr style=\"text-align: right;\">\n",
       "      <th></th>\n",
       "      <th>Unnamed: 0</th>\n",
       "      <th>user_id</th>\n",
       "      <th>timestamp</th>\n",
       "      <th>group</th>\n",
       "      <th>landing_page</th>\n",
       "      <th>converted</th>\n",
       "    </tr>\n",
       "  </thead>\n",
       "  <tbody>\n",
       "    <tr>\n",
       "      <th>0</th>\n",
       "      <td>0</td>\n",
       "      <td>851104</td>\n",
       "      <td>2021-01-21 22:11:48.556739</td>\n",
       "      <td>control</td>\n",
       "      <td>old_page</td>\n",
       "      <td>0</td>\n",
       "    </tr>\n",
       "    <tr>\n",
       "      <th>1</th>\n",
       "      <td>1</td>\n",
       "      <td>804228</td>\n",
       "      <td>2021-01-12 08:01:45.159739</td>\n",
       "      <td>control</td>\n",
       "      <td>old_page</td>\n",
       "      <td>0</td>\n",
       "    </tr>\n",
       "    <tr>\n",
       "      <th>2</th>\n",
       "      <td>2</td>\n",
       "      <td>661590</td>\n",
       "      <td>2021-01-11 16:55:06.154213</td>\n",
       "      <td>treatment</td>\n",
       "      <td>new_page</td>\n",
       "      <td>0</td>\n",
       "    </tr>\n",
       "  </tbody>\n",
       "</table>\n",
       "</div>"
      ],
      "text/plain": [
       "   Unnamed: 0  user_id                   timestamp      group landing_page  \\\n",
       "0           0   851104  2021-01-21 22:11:48.556739    control     old_page   \n",
       "1           1   804228  2021-01-12 08:01:45.159739    control     old_page   \n",
       "2           2   661590  2021-01-11 16:55:06.154213  treatment     new_page   \n",
       "\n",
       "   converted  \n",
       "0          0  \n",
       "1          0  \n",
       "2          0  "
      ]
     },
     "execution_count": 3,
     "metadata": {},
     "output_type": "execute_result"
    }
   ],
   "source": [
    "df.head(3)"
   ]
  },
  {
   "cell_type": "markdown",
   "id": "269e0c11-16f5-432b-8ecd-3342f56117e1",
   "metadata": {},
   "source": [
    "**Определение эксперимента**   \n",
    "Мы разработали новую веб-страницу и хотим проверить ее влияние на конверсию покупок. Таким образом, мы делим наших пользователей поровну на 2 группы:  \n",
    "\n",
    "1.Control: пользователь попадает на старую версию страницы  \n",
    "2.Treatment: пользователь попадает на новую версию страницы  \n",
    "\n",
    "Показатель, который мы хотим отслеживать:  \n",
    "\n",
    "$$Perchase Conversion =\\frac{Converted Users}{Exposed Users}$$\n",
    "\n",
    "\n",
    "У нас есть данные о действиях / конверсии за 3 недели. Давайте определим эти термины:  \n",
    "Действие: пользователь попадает в контрольную или исследуемую группу и видит соответствующую страницу впервые за время эксперимента.  \n",
    "Конверсия: пользователь совершает покупку в течение 7 дней с момента первого действия.  \n",
    "\n",
    "Каждая строка регистрируется, когда пользователь открывает веб-страницу.  \n",
    "\n",
    "Timestamp: время, когда пользователь впервые открывает страницу  \n",
    "Группа: контрольная/эксперементальная  \n",
    "Landing_page: какую страницу они видят  \n",
    "Конверсия: инициализировано на 0. Изменяется на 1, если пользователь совершает покупку в течение 7 дней с момента первого контакта.\n"
   ]
  },
  {
   "cell_type": "code",
   "execution_count": 4,
   "id": "002bb9f4-a914-4bcd-b150-1eb95232673b",
   "metadata": {},
   "outputs": [],
   "source": [
    "# колонка \"Unnamed: 0\" не несет никакой информации(можно ее удалить)\n",
    "df = df.drop('Unnamed: 0',axis=1)"
   ]
  },
  {
   "cell_type": "code",
   "execution_count": 5,
   "id": "a00051e5-4dcf-4406-84c2-8555146e0b9e",
   "metadata": {},
   "outputs": [
    {
     "data": {
      "text/plain": [
       "user_id          int64\n",
       "timestamp       object\n",
       "group           object\n",
       "landing_page    object\n",
       "converted        int64\n",
       "dtype: object"
      ]
     },
     "execution_count": 5,
     "metadata": {},
     "output_type": "execute_result"
    }
   ],
   "source": [
    "# Проверим типы данных\n",
    "df.dtypes"
   ]
  },
  {
   "cell_type": "code",
   "execution_count": 6,
   "id": "041fba80-7053-4ea9-9ea9-7e7b2dd05b43",
   "metadata": {},
   "outputs": [
    {
     "data": {
      "text/plain": [
       "(294478, 5)"
      ]
     },
     "execution_count": 6,
     "metadata": {},
     "output_type": "execute_result"
    }
   ],
   "source": [
    "#Проверим размер таблицы\n",
    "df.shape"
   ]
  },
  {
   "cell_type": "code",
   "execution_count": 7,
   "id": "2c3226bf-5784-462b-a330-5601ba0da49f",
   "metadata": {},
   "outputs": [],
   "source": [
    "# Колонка 'timestamp' имеет тип 'object'. Переведем ее в формат даты\n",
    "df.timestamp = pd.to_datetime(df['timestamp'])"
   ]
  },
  {
   "cell_type": "code",
   "execution_count": 8,
   "id": "95b18157-6789-43f9-a391-d1c62f55c5a8",
   "metadata": {},
   "outputs": [
    {
     "data": {
      "text/plain": [
       "user_id                  int64\n",
       "timestamp       datetime64[ns]\n",
       "group                   object\n",
       "landing_page            object\n",
       "converted                int64\n",
       "dtype: object"
      ]
     },
     "execution_count": 8,
     "metadata": {},
     "output_type": "execute_result"
    }
   ],
   "source": [
    "df.dtypes"
   ]
  },
  {
   "cell_type": "code",
   "execution_count": 9,
   "id": "cc7de62d-6029-4e12-a448-468809415144",
   "metadata": {},
   "outputs": [
    {
     "data": {
      "text/plain": [
       "user_id         0\n",
       "timestamp       0\n",
       "group           0\n",
       "landing_page    0\n",
       "converted       0\n",
       "dtype: int64"
      ]
     },
     "execution_count": 9,
     "metadata": {},
     "output_type": "execute_result"
    }
   ],
   "source": [
    "# Проверим количество пропущенных значений в данных\n",
    "df.isna().sum()"
   ]
  },
  {
   "cell_type": "code",
   "execution_count": 10,
   "id": "17fcda1a-94fe-4f27-a6f5-1c6167078f69",
   "metadata": {},
   "outputs": [
    {
     "name": "stdout",
     "output_type": "stream",
     "text": [
      "Number of unique users in experiment: 290584\n",
      "Data collected for 21 days\n",
      "Landing pages to compare: ['old_page', 'new_page']\n",
      "Percentage of users in control: 50%\n"
     ]
    }
   ],
   "source": [
    "# Проверим диапазон дат в данных, коичество уникальных пользователей, страницы для сравнения, \n",
    "#соотношение пользователей в группах\n",
    "start_time = df.timestamp.min()\n",
    "end_time = df.timestamp.max() \n",
    "data_duration = (end_time - start_time).days\n",
    "\n",
    "print(f\"Number of unique users in experiment: {df['user_id'].nunique()}\")\n",
    "print(f\"Data collected for {data_duration} days\")\n",
    "print(f\"Landing pages to compare: {df['landing_page'].unique().tolist()}\")\n",
    "print(f\"Percentage of users in control: {round(df[df['group']=='control'].shape[0] * 100 / df.shape[0])}%\")"
   ]
  },
  {
   "cell_type": "code",
   "execution_count": 11,
   "id": "3ce80da5-4cd3-4e4d-8123-776552d24788",
   "metadata": {},
   "outputs": [
    {
     "data": {
      "text/plain": [
       "False    286690\n",
       "True       3894\n",
       "Name: user_id, dtype: int64"
      ]
     },
     "execution_count": 11,
     "metadata": {},
     "output_type": "execute_result"
    }
   ],
   "source": [
    "# Обшее количество записей в данных - 294478, а уникальных пользователей - 290584\n",
    "# проверим пользователей, для которых имеется несколько записей\n",
    "counter = df['user_id'].value_counts()\n",
    "(counter > 1).value_counts()"
   ]
  },
  {
   "cell_type": "code",
   "execution_count": 12,
   "id": "6ae58426-edd6-4937-96e0-4f2e08ea8ba4",
   "metadata": {},
   "outputs": [
    {
     "data": {
      "text/plain": [
       "643619    2\n",
       "Name: user_id, dtype: int64"
      ]
     },
     "execution_count": 12,
     "metadata": {},
     "output_type": "execute_result"
    }
   ],
   "source": [
    "counter[counter > 1].sample(1)"
   ]
  },
  {
   "cell_type": "code",
   "execution_count": 13,
   "id": "2d3a7c25-3f6a-433a-b477-42403b0b650e",
   "metadata": {},
   "outputs": [],
   "source": [
    "sample = df[df['user_id'].isin([782843])]"
   ]
  },
  {
   "cell_type": "code",
   "execution_count": 14,
   "id": "7e454621-78af-4b69-a401-7102bdcc1461",
   "metadata": {},
   "outputs": [
    {
     "data": {
      "text/html": [
       "<div>\n",
       "<style scoped>\n",
       "    .dataframe tbody tr th:only-of-type {\n",
       "        vertical-align: middle;\n",
       "    }\n",
       "\n",
       "    .dataframe tbody tr th {\n",
       "        vertical-align: top;\n",
       "    }\n",
       "\n",
       "    .dataframe thead th {\n",
       "        text-align: right;\n",
       "    }\n",
       "</style>\n",
       "<table border=\"1\" class=\"dataframe\">\n",
       "  <thead>\n",
       "    <tr style=\"text-align: right;\">\n",
       "      <th></th>\n",
       "      <th>user_id</th>\n",
       "      <th>timestamp</th>\n",
       "      <th>group</th>\n",
       "      <th>landing_page</th>\n",
       "      <th>converted</th>\n",
       "    </tr>\n",
       "  </thead>\n",
       "  <tbody>\n",
       "    <tr>\n",
       "      <th>12120</th>\n",
       "      <td>782843</td>\n",
       "      <td>2021-01-04 12:22:20.249958</td>\n",
       "      <td>treatment</td>\n",
       "      <td>new_page</td>\n",
       "      <td>0</td>\n",
       "    </tr>\n",
       "    <tr>\n",
       "      <th>267975</th>\n",
       "      <td>782843</td>\n",
       "      <td>2021-01-14 13:58:20.935978</td>\n",
       "      <td>treatment</td>\n",
       "      <td>old_page</td>\n",
       "      <td>1</td>\n",
       "    </tr>\n",
       "  </tbody>\n",
       "</table>\n",
       "</div>"
      ],
      "text/plain": [
       "        user_id                  timestamp      group landing_page  converted\n",
       "12120    782843 2021-01-04 12:22:20.249958  treatment     new_page          0\n",
       "267975   782843 2021-01-14 13:58:20.935978  treatment     old_page          1"
      ]
     },
     "execution_count": 14,
     "metadata": {},
     "output_type": "execute_result"
    }
   ],
   "source": [
    "sample"
   ]
  },
  {
   "cell_type": "markdown",
   "id": "17b25b1f-5da8-420f-97fa-2a0ede3ee707",
   "metadata": {},
   "source": [
    "Для 3894 (1.35 %) user_ids есть записи взаимодействия со старой и новой страницей(их можно удалить)"
   ]
  },
  {
   "cell_type": "code",
   "execution_count": 15,
   "id": "840a9aec-bc42-497a-b883-5c396ef5f81c",
   "metadata": {},
   "outputs": [],
   "source": [
    "valid_users = pd.DataFrame(counter[counter == 1].index, columns=['user_id'])"
   ]
  },
  {
   "cell_type": "code",
   "execution_count": 16,
   "id": "8fd76961-3e36-422a-b59c-6ad6471ed26f",
   "metadata": {},
   "outputs": [
    {
     "name": "stdout",
     "output_type": "stream",
     "text": [
      "Percentage of users in control: 50%\n"
     ]
    }
   ],
   "source": [
    "df = df.merge(valid_users, on=['user_id'])\n",
    "print(f\"Percentage of users in control: {round(df[df['group']=='control'].shape[0] * 100 / df.shape[0])}%\")"
   ]
  },
  {
   "cell_type": "code",
   "execution_count": 17,
   "id": "333520c1-5f8a-4b52-8544-7c7cddac2438",
   "metadata": {},
   "outputs": [
    {
     "data": {
      "text/plain": [
       "new_page    143397\n",
       "old_page    143293\n",
       "Name: landing_page, dtype: int64"
      ]
     },
     "execution_count": 17,
     "metadata": {},
     "output_type": "execute_result"
    }
   ],
   "source": [
    "df.landing_page.value_counts()"
   ]
  },
  {
   "cell_type": "code",
   "execution_count": 18,
   "id": "f7762186-32c3-4ece-9590-78d15ee8851a",
   "metadata": {},
   "outputs": [
    {
     "data": {
      "text/plain": [
       "104"
      ]
     },
     "execution_count": 18,
     "metadata": {},
     "output_type": "execute_result"
    }
   ],
   "source": [
    "# Видим,что после преобразования процентное соотношение пользовательй взаимодействовавщих со старой и новой страницей\n",
    "#не изменилось.Однако, есть небольшая разница в количестве пользователей\n",
    "df.landing_page.value_counts()[0] - df.landing_page.value_counts()[1]"
   ]
  },
  {
   "cell_type": "code",
   "execution_count": 19,
   "id": "3d69ce9c-1d60-4d9a-a88c-dea22cd4e0eb",
   "metadata": {},
   "outputs": [],
   "source": [
    "# Удалим из данных 104 случайных пользователя, чтобы уравнять количество в контрольной и исследуемой группах\n",
    "df = df.drop(df[df.landing_page == 'new_page'].sample(104).index)"
   ]
  },
  {
   "cell_type": "code",
   "execution_count": 20,
   "id": "d1c96128-c7ac-4aac-bcec-941275dce803",
   "metadata": {},
   "outputs": [
    {
     "data": {
      "text/plain": [
       "old_page    143293\n",
       "new_page    143293\n",
       "Name: landing_page, dtype: int64"
      ]
     },
     "execution_count": 20,
     "metadata": {},
     "output_type": "execute_result"
    }
   ],
   "source": [
    "df.landing_page.value_counts()"
   ]
  },
  {
   "cell_type": "code",
   "execution_count": 21,
   "id": "4b687f45-7479-4dd0-97bc-a937e8dcf4f6",
   "metadata": {},
   "outputs": [
    {
     "data": {
      "text/html": [
       "<div>\n",
       "<style scoped>\n",
       "    .dataframe tbody tr th:only-of-type {\n",
       "        vertical-align: middle;\n",
       "    }\n",
       "\n",
       "    .dataframe tbody tr th {\n",
       "        vertical-align: top;\n",
       "    }\n",
       "\n",
       "    .dataframe thead th {\n",
       "        text-align: right;\n",
       "    }\n",
       "</style>\n",
       "<table border=\"1\" class=\"dataframe\">\n",
       "  <thead>\n",
       "    <tr style=\"text-align: right;\">\n",
       "      <th></th>\n",
       "      <th>user_id</th>\n",
       "      <th>timestamp</th>\n",
       "      <th>group</th>\n",
       "      <th>landing_page</th>\n",
       "      <th>converted</th>\n",
       "    </tr>\n",
       "  </thead>\n",
       "  <tbody>\n",
       "    <tr>\n",
       "      <th>0</th>\n",
       "      <td>851104</td>\n",
       "      <td>2021-01-21 22:11:48.556739</td>\n",
       "      <td>control</td>\n",
       "      <td>old_page</td>\n",
       "      <td>0</td>\n",
       "    </tr>\n",
       "    <tr>\n",
       "      <th>1</th>\n",
       "      <td>804228</td>\n",
       "      <td>2021-01-12 08:01:45.159739</td>\n",
       "      <td>control</td>\n",
       "      <td>old_page</td>\n",
       "      <td>0</td>\n",
       "    </tr>\n",
       "    <tr>\n",
       "      <th>2</th>\n",
       "      <td>661590</td>\n",
       "      <td>2021-01-11 16:55:06.154213</td>\n",
       "      <td>treatment</td>\n",
       "      <td>new_page</td>\n",
       "      <td>0</td>\n",
       "    </tr>\n",
       "    <tr>\n",
       "      <th>3</th>\n",
       "      <td>853541</td>\n",
       "      <td>2021-01-08 18:28:03.143765</td>\n",
       "      <td>treatment</td>\n",
       "      <td>new_page</td>\n",
       "      <td>0</td>\n",
       "    </tr>\n",
       "    <tr>\n",
       "      <th>4</th>\n",
       "      <td>864975</td>\n",
       "      <td>2021-01-21 01:52:26.210827</td>\n",
       "      <td>control</td>\n",
       "      <td>old_page</td>\n",
       "      <td>1</td>\n",
       "    </tr>\n",
       "  </tbody>\n",
       "</table>\n",
       "</div>"
      ],
      "text/plain": [
       "   user_id                  timestamp      group landing_page  converted\n",
       "0   851104 2021-01-21 22:11:48.556739    control     old_page          0\n",
       "1   804228 2021-01-12 08:01:45.159739    control     old_page          0\n",
       "2   661590 2021-01-11 16:55:06.154213  treatment     new_page          0\n",
       "3   853541 2021-01-08 18:28:03.143765  treatment     new_page          0\n",
       "4   864975 2021-01-21 01:52:26.210827    control     old_page          1"
      ]
     },
     "execution_count": 21,
     "metadata": {},
     "output_type": "execute_result"
    }
   ],
   "source": [
    "df.head()"
   ]
  },
  {
   "cell_type": "code",
   "execution_count": 22,
   "id": "e4e22d53-1151-4077-9b14-de4de6f0f87c",
   "metadata": {},
   "outputs": [],
   "source": [
    "# Добавим столбец 'week', чтобы просматривать данные как во время эксперимента\n",
    "df['week'] = df.timestamp.dt.isocalendar().week"
   ]
  },
  {
   "cell_type": "code",
   "execution_count": 23,
   "id": "66f2f42c-52f8-4d2b-9f9b-5f366edda31e",
   "metadata": {},
   "outputs": [
    {
     "data": {
      "text/html": [
       "<div>\n",
       "<style scoped>\n",
       "    .dataframe tbody tr th:only-of-type {\n",
       "        vertical-align: middle;\n",
       "    }\n",
       "\n",
       "    .dataframe tbody tr th {\n",
       "        vertical-align: top;\n",
       "    }\n",
       "\n",
       "    .dataframe thead th {\n",
       "        text-align: right;\n",
       "    }\n",
       "</style>\n",
       "<table border=\"1\" class=\"dataframe\">\n",
       "  <thead>\n",
       "    <tr style=\"text-align: right;\">\n",
       "      <th></th>\n",
       "      <th>user_id</th>\n",
       "      <th>timestamp</th>\n",
       "      <th>group</th>\n",
       "      <th>landing_page</th>\n",
       "      <th>converted</th>\n",
       "      <th>week</th>\n",
       "    </tr>\n",
       "  </thead>\n",
       "  <tbody>\n",
       "    <tr>\n",
       "      <th>0</th>\n",
       "      <td>851104</td>\n",
       "      <td>2021-01-21 22:11:48.556739</td>\n",
       "      <td>control</td>\n",
       "      <td>old_page</td>\n",
       "      <td>0</td>\n",
       "      <td>3</td>\n",
       "    </tr>\n",
       "  </tbody>\n",
       "</table>\n",
       "</div>"
      ],
      "text/plain": [
       "   user_id                  timestamp    group landing_page  converted  week\n",
       "0   851104 2021-01-21 22:11:48.556739  control     old_page          0     3"
      ]
     },
     "execution_count": 23,
     "metadata": {},
     "output_type": "execute_result"
    }
   ],
   "source": [
    "df.head(1)"
   ]
  },
  {
   "cell_type": "code",
   "execution_count": 24,
   "id": "42dbd5db-2572-4afc-b525-069f80ad462b",
   "metadata": {},
   "outputs": [],
   "source": [
    "df['week'] = np.where(df['week'] != 53, df['week'], 1)"
   ]
  },
  {
   "cell_type": "code",
   "execution_count": 25,
   "id": "945e868c-ce7d-4712-b2b7-53b27ce43326",
   "metadata": {},
   "outputs": [
    {
     "data": {
      "text/plain": [
       "1    109953\n",
       "2     91029\n",
       "3     85604\n",
       "Name: week, dtype: int64"
      ]
     },
     "execution_count": 25,
     "metadata": {},
     "output_type": "execute_result"
    }
   ],
   "source": [
    "df['week'].value_counts()"
   ]
  },
  {
   "cell_type": "markdown",
   "id": "f0ab0bfb-d47d-4af3-b965-79ae6dab6f97",
   "metadata": {},
   "source": [
    "Мы тестируем целевую страницу и хотим посмотреть, будет ли она лучше.  \n",
    "Ho - связи между целевой страницей, которую получают посетители, и их коэффициентом конверсии не существует.  \n",
    "H1: существует связь между целевой страницей, которую получают посетители, и их коэффициентом конверсии."
   ]
  },
  {
   "cell_type": "markdown",
   "id": "b68314f9-cd22-4479-8473-fe86fdfde270",
   "metadata": {},
   "source": [
    "Хи - квадрат тест"
   ]
  },
  {
   "cell_type": "code",
   "execution_count": 26,
   "id": "b62fefb6-a76f-4ea2-98a8-09300835ff71",
   "metadata": {},
   "outputs": [
    {
     "name": "stdout",
     "output_type": "stream",
     "text": [
      "Treatment Conversion Rate: 11.874%\n",
      "Control Conversion Rate: 12.017%\n",
      "Lift = -0.143%\n"
     ]
    }
   ],
   "source": [
    "NUM_WEEKS = 3 # Можно изменять для получения результатов в разные моменты времени\n",
    "experiment_data = df[df['week'] <= NUM_WEEKS]\n",
    "control = experiment_data[experiment_data['group']=='control']\n",
    "treatment = experiment_data[experiment_data['group']=='treatment']\n",
    "\n",
    "control_conversion_perc = round(control['converted'].sum() * 100/ control['converted'].count(), 3)\n",
    "treatment_conversion_perc = round(treatment['converted'].sum() * 100/ treatment['converted'].count(), 3)\n",
    "lift = round(treatment_conversion_perc - control_conversion_perc, 3)\n",
    "\n",
    "print(f\"Treatment Conversion Rate: {treatment_conversion_perc}%\")\n",
    "print(f\"Control Conversion Rate: {control_conversion_perc}%\")\n",
    "print(f\"Lift = {lift}%\")"
   ]
  },
  {
   "cell_type": "code",
   "execution_count": 27,
   "id": "e47af90e-0383-4170-8421-86899104186b",
   "metadata": {},
   "outputs": [],
   "source": [
    "control_converted = control['converted'].sum()\n",
    "treatment_converted = treatment['converted'].sum()\n",
    "control_non_converted = control['converted'].count() - control_converted\n",
    "treatment_non_converted = treatment['converted'].count() - treatment_converted\n",
    "observed_table = np.array([[control_converted, control_non_converted], \n",
    "                              [treatment_converted, treatment_non_converted]])"
   ]
  },
  {
   "cell_type": "code",
   "execution_count": 28,
   "id": "30a7c65b-5158-4e4f-8567-70b82c5a750f",
   "metadata": {},
   "outputs": [
    {
     "data": {
      "text/plain": [
       "array([[ 17220, 126073],\n",
       "       [ 17015, 126278]], dtype=int64)"
      ]
     },
     "execution_count": 28,
     "metadata": {},
     "output_type": "execute_result"
    }
   ],
   "source": [
    "observed_table"
   ]
  },
  {
   "cell_type": "code",
   "execution_count": 30,
   "id": "09819c62-9708-46d1-a326-90847f5344b8",
   "metadata": {},
   "outputs": [],
   "source": [
    "chi, p_value, deg_of_fr, expected_table = chi2_contingency(observed_table, correction=False)"
   ]
  },
  {
   "cell_type": "code",
   "execution_count": 31,
   "id": "4376c281-a5d6-47b4-a5bc-ce588fd0655f",
   "metadata": {},
   "outputs": [
    {
     "data": {
      "text/plain": [
       "(1.3940788252423906, 0.23771748963425166)"
      ]
     },
     "execution_count": 31,
     "metadata": {},
     "output_type": "execute_result"
    }
   ],
   "source": [
    "chi, p_value"
   ]
  },
  {
   "cell_type": "markdown",
   "id": "ac702078-ff47-4955-aa2d-bd06bcf66da2",
   "metadata": {},
   "source": [
    "Вывод:  \n",
    "Мы поучили p-value = 0.24(что больше 0.05).В этом случае значение хи-квадрат должно быть равно или превышать 3,84. Тогда результаты будут статистически значимыми. Поскольку 1,39 меньше 3,84, мои результаты статистически не отличаются. Нет никакой связи между тем, какую версию целевой страницы посетитель получает, и коэффициентом конверсии со статистической значимостью."
   ]
  },
  {
   "cell_type": "code",
   "execution_count": null,
   "id": "b602cd1b-a04b-46e5-a122-d508ff90c72d",
   "metadata": {},
   "outputs": [],
   "source": []
  }
 ],
 "metadata": {
  "kernelspec": {
   "display_name": "Python 3",
   "language": "python",
   "name": "python3"
  },
  "language_info": {
   "codemirror_mode": {
    "name": "ipython",
    "version": 3
   },
   "file_extension": ".py",
   "mimetype": "text/x-python",
   "name": "python",
   "nbconvert_exporter": "python",
   "pygments_lexer": "ipython3",
   "version": "3.9.4"
  },
  "widgets": {
   "application/vnd.jupyter.widget-state+json": {
    "state": {},
    "version_major": 2,
    "version_minor": 0
   }
  }
 },
 "nbformat": 4,
 "nbformat_minor": 5
}
